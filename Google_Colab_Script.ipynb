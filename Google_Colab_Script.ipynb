{
 "cells": [
  {
   "cell_type": "code",
   "execution_count": null,
   "id": "ffb76af9",
   "metadata": {},
   "outputs": [],
   "source": [
    "#Installing ultralytics package for colab training environment\n",
    "pip install ultralytics==8.3.178"
   ]
  },
  {
   "cell_type": "code",
   "execution_count": null,
   "id": "ad852763",
   "metadata": {},
   "outputs": [],
   "source": [
    "#Upload compressed training images from local machine to colab environment\n",
    "from google.colab import files\n",
    "uploaded = files.upload()"
   ]
  },
  {
   "cell_type": "code",
   "execution_count": null,
   "id": "144f0b07",
   "metadata": {},
   "outputs": [],
   "source": [
    "#Extract uploaded zip file, change zip_path to path of uploaded zip file if needed.\n",
    "import zipfile\n",
    "import os\n",
    "\n",
    "zip_path = '/content/Training_data_combined_streaks.zip'  \n",
    "with zipfile.ZipFile(zip_path, 'r') as zip_ref:\n",
    "    zip_ref.extractall(\"Training_data_combined_streaks\")"
   ]
  },
  {
   "cell_type": "code",
   "execution_count": null,
   "id": "bca6591e",
   "metadata": {},
   "outputs": [],
   "source": [
    "#Training the model using the uploaded and extracted images with augmentation techniques.\n",
    "\n",
    "#Change yaml path, project path and model name as needed.\n",
    "from ultralytics import YOLO\n",
    "\n",
    "model = YOLO(\"yolo11s.pt\")\n",
    "\n",
    "dataset_yaml = \"/content/Training_data_streaks/Training_data_combined_streaks/data.yaml\"\n",
    "project_path = \"/content/Trained_models/Detection_models_15_09_2025\"\n",
    "model_name = \"streak_detection_15th_sept_2025_with_augments\"\n",
    "\n",
    "results = model.train(data=dataset_yaml,epochs=100, imgsz = 1280, box = 8.0, cls = .3, dfl = 1.5, iou = 0.35, optimizer = 'AdamW', lr0 = 0.002, lrf = .1, cos_lr = True, hsv_h = 0.02, hsv_s = 0.4, hsv_v = 0.4, degrees = 10.0, translate = 0.04, scale = 0.1, save = True, save_period = -1, plots = True, val = True, project = project_path, name = model_name)"
   ]
  },
  {
   "cell_type": "code",
   "execution_count": null,
   "id": "669a6564",
   "metadata": {},
   "outputs": [],
   "source": [
    "#Downloading the trained model from colab environment to local machine.\n",
    "from google.colab import files\n",
    "!zip -r Satellite_streaks_and_points_detection_model_17_Sept_2025.zip '/content/runs/detect/Satellite_streaks_and_points_detection_model_17_Sept_2025'\n",
    "files.download('/content/Satellite_streaks_and_points_detection_model_17_Sept_2025.zip')"
   ]
  }
 ],
 "metadata": {
  "language_info": {
   "name": "python"
  }
 },
 "nbformat": 4,
 "nbformat_minor": 5
}
